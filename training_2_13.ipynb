{
  "cells": [
    {
      "cell_type": "code",
      "source": [
        "!pip install rdkit\n"
      ],
      "metadata": {
        "colab": {
          "base_uri": "https://localhost:8080/"
        },
        "id": "p-v-ldg6h_bc",
        "outputId": "3eeaa927-babe-4ed0-8a4e-cda6fe286665"
      },
      "execution_count": 1,
      "outputs": [
        {
          "output_type": "stream",
          "name": "stdout",
          "text": [
            "Looking in indexes: https://pypi.org/simple, https://us-python.pkg.dev/colab-wheels/public/simple/\n",
            "Collecting rdkit\n",
            "  Downloading rdkit-2022.9.4-cp38-cp38-manylinux_2_17_x86_64.manylinux2014_x86_64.whl (29.3 MB)\n",
            "\u001b[2K     \u001b[90m━━━━━━━━━━━━━━━━━━━━━━━━━━━━━━━━━━━━━━━━\u001b[0m \u001b[32m29.3/29.3 MB\u001b[0m \u001b[31m51.2 MB/s\u001b[0m eta \u001b[36m0:00:00\u001b[0m\n",
            "\u001b[?25hRequirement already satisfied: numpy in /usr/local/lib/python3.8/dist-packages (from rdkit) (1.21.6)\n",
            "Requirement already satisfied: Pillow in /usr/local/lib/python3.8/dist-packages (from rdkit) (7.1.2)\n",
            "Installing collected packages: rdkit\n",
            "Successfully installed rdkit-2022.9.4\n"
          ]
        }
      ]
    },
    {
      "cell_type": "code",
      "execution_count": 2,
      "metadata": {
        "colab": {
          "base_uri": "https://localhost:8080/"
        },
        "id": "ugDa2HjLgPI3",
        "outputId": "7e24fa69-2de9-4c74-a8ac-0f7972efb001"
      },
      "outputs": [
        {
          "output_type": "stream",
          "name": "stdout",
          "text": [
            "Looking in indexes: https://pypi.org/simple, https://us-python.pkg.dev/colab-wheels/public/simple/\n",
            "Requirement already satisfied: torch in /usr/local/lib/python3.8/dist-packages (1.13.1+cu116)\n",
            "Requirement already satisfied: typing-extensions in /usr/local/lib/python3.8/dist-packages (from torch) (4.4.0)\n",
            "Looking in indexes: https://pypi.org/simple, https://us-python.pkg.dev/colab-wheels/public/simple/\n",
            "Requirement already satisfied: torchvision in /usr/local/lib/python3.8/dist-packages (0.14.1+cu116)\n",
            "Requirement already satisfied: typing-extensions in /usr/local/lib/python3.8/dist-packages (from torchvision) (4.4.0)\n",
            "Requirement already satisfied: numpy in /usr/local/lib/python3.8/dist-packages (from torchvision) (1.21.6)\n",
            "Requirement already satisfied: requests in /usr/local/lib/python3.8/dist-packages (from torchvision) (2.25.1)\n",
            "Requirement already satisfied: pillow!=8.3.*,>=5.3.0 in /usr/local/lib/python3.8/dist-packages (from torchvision) (7.1.2)\n",
            "Requirement already satisfied: torch==1.13.1 in /usr/local/lib/python3.8/dist-packages (from torchvision) (1.13.1+cu116)\n",
            "Requirement already satisfied: urllib3<1.27,>=1.21.1 in /usr/local/lib/python3.8/dist-packages (from requests->torchvision) (1.24.3)\n",
            "Requirement already satisfied: certifi>=2017.4.17 in /usr/local/lib/python3.8/dist-packages (from requests->torchvision) (2022.12.7)\n",
            "Requirement already satisfied: idna<3,>=2.5 in /usr/local/lib/python3.8/dist-packages (from requests->torchvision) (2.10)\n",
            "Requirement already satisfied: chardet<5,>=3.0.2 in /usr/local/lib/python3.8/dist-packages (from requests->torchvision) (4.0.0)\n"
          ]
        }
      ],
      "source": [
        "!pip install torch\n",
        "!pip install torchvision"
      ]
    },
    {
      "cell_type": "code",
      "execution_count": 3,
      "metadata": {
        "colab": {
          "base_uri": "https://localhost:8080/"
        },
        "id": "_5LdcOj174CU",
        "outputId": "3cc45a21-07f8-4c5a-a845-9ad116203fbf"
      },
      "outputs": [
        {
          "output_type": "stream",
          "name": "stdout",
          "text": [
            "Mounted at /content/drive\n"
          ]
        }
      ],
      "source": [
        "from google.colab import drive\n",
        "drive.mount('/content/drive')"
      ]
    },
    {
      "cell_type": "code",
      "execution_count": 4,
      "metadata": {
        "id": "TPmiN4BAIr1H"
      },
      "outputs": [],
      "source": [
        "import os\n",
        "import shutil\n",
        "from glob import glob\n",
        "import pandas as pd\n",
        "import numpy as np\n",
        "import seaborn as sns\n",
        "import matplotlib.pyplot as plt\n",
        "from imblearn.over_sampling import RandomOverSampler"
      ]
    },
    {
      "cell_type": "code",
      "execution_count": 5,
      "metadata": {
        "colab": {
          "base_uri": "https://localhost:8080/",
          "height": 424
        },
        "id": "qA4L_dnJ9FlB",
        "outputId": "58acf73a-b7e5-4220-a381-c8ff81ae4cf3"
      },
      "outputs": [
        {
          "output_type": "execute_result",
          "data": {
            "text/plain": [
              "      PDB ID                                             SMILES  is_active\n",
              "0       2VT4         OC(CNCCOc2ccc(n1ccnc1)cc2)CONC(C3CC3)C4CC4          1\n",
              "1       1ZW5                    C(CC(=O)[O-])[C@H](CS)C(=O)[O-]          0\n",
              "2       3FRJ  Cc1cccn2c1nc(c(c2=O)/C=C/3\\C(=O)N(C(=S)S3)Cc4c...          0\n",
              "3       3MAX     Cc1ccc(cc1Cl)Nc2nnc(s2)SCC(=O)Nc3c(ccs3)C(=O)N          0\n",
              "4       2RGP  C[C@@H]1CCCC[C@H]1[NH2+][C@@H]2c3cc(c(cc3NC2=O...          0\n",
              "...      ...                                                ...        ...\n",
              "29995   2OF2  Cc2ccc(C(=O)Nc1cccc(C(F)(F)F)c1)cc2C#Cc3cnc(N)nc3          1\n",
              "29996   3EML               c1ccc(cc1)S(=O)(=O)Nc2cccc3c2n[nH]n3          0\n",
              "29997   3L3M                 NC(=O)c3cccc2CN(CC1CCNCC1)C(=O)c23          1\n",
              "29998   3LAN          CCn1cnc2c(c1=O)c(c(s2)C(=O)Nc3ccc(cc3)O)C          0\n",
              "29999   3PBL          Cc1cc2c(n1c3cnn(c3)C(C)C)CC(C[C@H]2O)(C)C          0\n",
              "\n",
              "[30000 rows x 3 columns]"
            ],
            "text/html": [
              "\n",
              "  <div id=\"df-a3548214-9c30-445f-b0b5-13de34cb040b\">\n",
              "    <div class=\"colab-df-container\">\n",
              "      <div>\n",
              "<style scoped>\n",
              "    .dataframe tbody tr th:only-of-type {\n",
              "        vertical-align: middle;\n",
              "    }\n",
              "\n",
              "    .dataframe tbody tr th {\n",
              "        vertical-align: top;\n",
              "    }\n",
              "\n",
              "    .dataframe thead th {\n",
              "        text-align: right;\n",
              "    }\n",
              "</style>\n",
              "<table border=\"1\" class=\"dataframe\">\n",
              "  <thead>\n",
              "    <tr style=\"text-align: right;\">\n",
              "      <th></th>\n",
              "      <th>PDB ID</th>\n",
              "      <th>SMILES</th>\n",
              "      <th>is_active</th>\n",
              "    </tr>\n",
              "  </thead>\n",
              "  <tbody>\n",
              "    <tr>\n",
              "      <th>0</th>\n",
              "      <td>2VT4</td>\n",
              "      <td>OC(CNCCOc2ccc(n1ccnc1)cc2)CONC(C3CC3)C4CC4</td>\n",
              "      <td>1</td>\n",
              "    </tr>\n",
              "    <tr>\n",
              "      <th>1</th>\n",
              "      <td>1ZW5</td>\n",
              "      <td>C(CC(=O)[O-])[C@H](CS)C(=O)[O-]</td>\n",
              "      <td>0</td>\n",
              "    </tr>\n",
              "    <tr>\n",
              "      <th>2</th>\n",
              "      <td>3FRJ</td>\n",
              "      <td>Cc1cccn2c1nc(c(c2=O)/C=C/3\\C(=O)N(C(=S)S3)Cc4c...</td>\n",
              "      <td>0</td>\n",
              "    </tr>\n",
              "    <tr>\n",
              "      <th>3</th>\n",
              "      <td>3MAX</td>\n",
              "      <td>Cc1ccc(cc1Cl)Nc2nnc(s2)SCC(=O)Nc3c(ccs3)C(=O)N</td>\n",
              "      <td>0</td>\n",
              "    </tr>\n",
              "    <tr>\n",
              "      <th>4</th>\n",
              "      <td>2RGP</td>\n",
              "      <td>C[C@@H]1CCCC[C@H]1[NH2+][C@@H]2c3cc(c(cc3NC2=O...</td>\n",
              "      <td>0</td>\n",
              "    </tr>\n",
              "    <tr>\n",
              "      <th>...</th>\n",
              "      <td>...</td>\n",
              "      <td>...</td>\n",
              "      <td>...</td>\n",
              "    </tr>\n",
              "    <tr>\n",
              "      <th>29995</th>\n",
              "      <td>2OF2</td>\n",
              "      <td>Cc2ccc(C(=O)Nc1cccc(C(F)(F)F)c1)cc2C#Cc3cnc(N)nc3</td>\n",
              "      <td>1</td>\n",
              "    </tr>\n",
              "    <tr>\n",
              "      <th>29996</th>\n",
              "      <td>3EML</td>\n",
              "      <td>c1ccc(cc1)S(=O)(=O)Nc2cccc3c2n[nH]n3</td>\n",
              "      <td>0</td>\n",
              "    </tr>\n",
              "    <tr>\n",
              "      <th>29997</th>\n",
              "      <td>3L3M</td>\n",
              "      <td>NC(=O)c3cccc2CN(CC1CCNCC1)C(=O)c23</td>\n",
              "      <td>1</td>\n",
              "    </tr>\n",
              "    <tr>\n",
              "      <th>29998</th>\n",
              "      <td>3LAN</td>\n",
              "      <td>CCn1cnc2c(c1=O)c(c(s2)C(=O)Nc3ccc(cc3)O)C</td>\n",
              "      <td>0</td>\n",
              "    </tr>\n",
              "    <tr>\n",
              "      <th>29999</th>\n",
              "      <td>3PBL</td>\n",
              "      <td>Cc1cc2c(n1c3cnn(c3)C(C)C)CC(C[C@H]2O)(C)C</td>\n",
              "      <td>0</td>\n",
              "    </tr>\n",
              "  </tbody>\n",
              "</table>\n",
              "<p>30000 rows × 3 columns</p>\n",
              "</div>\n",
              "      <button class=\"colab-df-convert\" onclick=\"convertToInteractive('df-a3548214-9c30-445f-b0b5-13de34cb040b')\"\n",
              "              title=\"Convert this dataframe to an interactive table.\"\n",
              "              style=\"display:none;\">\n",
              "        \n",
              "  <svg xmlns=\"http://www.w3.org/2000/svg\" height=\"24px\"viewBox=\"0 0 24 24\"\n",
              "       width=\"24px\">\n",
              "    <path d=\"M0 0h24v24H0V0z\" fill=\"none\"/>\n",
              "    <path d=\"M18.56 5.44l.94 2.06.94-2.06 2.06-.94-2.06-.94-.94-2.06-.94 2.06-2.06.94zm-11 1L8.5 8.5l.94-2.06 2.06-.94-2.06-.94L8.5 2.5l-.94 2.06-2.06.94zm10 10l.94 2.06.94-2.06 2.06-.94-2.06-.94-.94-2.06-.94 2.06-2.06.94z\"/><path d=\"M17.41 7.96l-1.37-1.37c-.4-.4-.92-.59-1.43-.59-.52 0-1.04.2-1.43.59L10.3 9.45l-7.72 7.72c-.78.78-.78 2.05 0 2.83L4 21.41c.39.39.9.59 1.41.59.51 0 1.02-.2 1.41-.59l7.78-7.78 2.81-2.81c.8-.78.8-2.07 0-2.86zM5.41 20L4 18.59l7.72-7.72 1.47 1.35L5.41 20z\"/>\n",
              "  </svg>\n",
              "      </button>\n",
              "      \n",
              "  <style>\n",
              "    .colab-df-container {\n",
              "      display:flex;\n",
              "      flex-wrap:wrap;\n",
              "      gap: 12px;\n",
              "    }\n",
              "\n",
              "    .colab-df-convert {\n",
              "      background-color: #E8F0FE;\n",
              "      border: none;\n",
              "      border-radius: 50%;\n",
              "      cursor: pointer;\n",
              "      display: none;\n",
              "      fill: #1967D2;\n",
              "      height: 32px;\n",
              "      padding: 0 0 0 0;\n",
              "      width: 32px;\n",
              "    }\n",
              "\n",
              "    .colab-df-convert:hover {\n",
              "      background-color: #E2EBFA;\n",
              "      box-shadow: 0px 1px 2px rgba(60, 64, 67, 0.3), 0px 1px 3px 1px rgba(60, 64, 67, 0.15);\n",
              "      fill: #174EA6;\n",
              "    }\n",
              "\n",
              "    [theme=dark] .colab-df-convert {\n",
              "      background-color: #3B4455;\n",
              "      fill: #D2E3FC;\n",
              "    }\n",
              "\n",
              "    [theme=dark] .colab-df-convert:hover {\n",
              "      background-color: #434B5C;\n",
              "      box-shadow: 0px 1px 3px 1px rgba(0, 0, 0, 0.15);\n",
              "      filter: drop-shadow(0px 1px 2px rgba(0, 0, 0, 0.3));\n",
              "      fill: #FFFFFF;\n",
              "    }\n",
              "  </style>\n",
              "\n",
              "      <script>\n",
              "        const buttonEl =\n",
              "          document.querySelector('#df-a3548214-9c30-445f-b0b5-13de34cb040b button.colab-df-convert');\n",
              "        buttonEl.style.display =\n",
              "          google.colab.kernel.accessAllowed ? 'block' : 'none';\n",
              "\n",
              "        async function convertToInteractive(key) {\n",
              "          const element = document.querySelector('#df-a3548214-9c30-445f-b0b5-13de34cb040b');\n",
              "          const dataTable =\n",
              "            await google.colab.kernel.invokeFunction('convertToInteractive',\n",
              "                                                     [key], {});\n",
              "          if (!dataTable) return;\n",
              "\n",
              "          const docLinkHtml = 'Like what you see? Visit the ' +\n",
              "            '<a target=\"_blank\" href=https://colab.research.google.com/notebooks/data_table.ipynb>data table notebook</a>'\n",
              "            + ' to learn more about interactive tables.';\n",
              "          element.innerHTML = '';\n",
              "          dataTable['output_type'] = 'display_data';\n",
              "          await google.colab.output.renderOutput(dataTable, element);\n",
              "          const docLink = document.createElement('div');\n",
              "          docLink.innerHTML = docLinkHtml;\n",
              "          element.appendChild(docLink);\n",
              "        }\n",
              "      </script>\n",
              "    </div>\n",
              "  </div>\n",
              "  "
            ]
          },
          "metadata": {},
          "execution_count": 5
        }
      ],
      "source": [
        "df = pd.read_csv('/content/drive/MyDrive/07project/dataset.csv')\n",
        "df"
      ]
    },
    {
      "cell_type": "code",
      "execution_count": 6,
      "metadata": {
        "id": "GonUBxLF_JlQ"
      },
      "outputs": [],
      "source": [
        "train_pro = []\n",
        "for i in range(20000):\n",
        "  train_pro.append(df['PDB ID'][i])"
      ]
    },
    {
      "cell_type": "code",
      "execution_count": 7,
      "metadata": {
        "id": "sfj1kcsXDCp2"
      },
      "outputs": [],
      "source": [
        "# for i in range(len(train_pro)):\n",
        "#   shutil.copy(f'/content/drive/MyDrive/07project/07Data/{train_pro[i]}.fasta','/content/drive/MyDrive/07project/training_pro_data/{:05d}_pro.fasta'.format(i + 1))"
      ]
    },
    {
      "cell_type": "markdown",
      "metadata": {
        "id": "_TW1GX5UFVqp"
      },
      "source": [
        "Coding proteins"
      ]
    },
    {
      "cell_type": "code",
      "execution_count": 8,
      "metadata": {
        "id": "fAOVMnEA_v1G"
      },
      "outputs": [],
      "source": [
        "import os\n",
        "from collections import Counter\n",
        "import numpy as np\n",
        "\n",
        "def encode_proteins(folder_path, k):\n",
        "    # Create a mapping from amino acids to numerical values\n",
        "    amino_acid_map = {\"A\": 0, \"C\": 1, \"D\": 2, \"E\": 3, \"F\": 4,\n",
        "                      \"G\": 5, \"H\": 6, \"I\": 7, \"K\": 8, \"L\": 9,\n",
        "                      \"M\": 10, \"N\": 11, \"P\": 12, \"Q\": 13, \"R\": 14,\n",
        "                      \"S\": 15, \"T\": 16, \"V\": 17, \"W\": 18, \"Y\": 19}\n",
        "    # Initialize the list to store the vectors\n",
        "    vectors = []\n",
        "    # Loop through each file in the folder\n",
        "    for file in os.listdir(folder_path):\n",
        "        if file.endswith(\".fasta\"):\n",
        "            with open(os.path.join(folder_path, file), 'r') as f:\n",
        "                # Read the sequence of amino acids from the file\n",
        "                amino_acids = f.read().strip()\n",
        "                # Create kmers of length k\n",
        "                kmers = [amino_acids[i:i+k] for i in range(len(amino_acids) - k + 1)]\n",
        "                # Count the frequency of each kmer\n",
        "                kmer_counts = Counter(kmers)\n",
        "                # Initialize the vector\n",
        "                vector = np.zeros((20**k,))\n",
        "                # Encode each kmer into a numerical value\n",
        "                for kmer, count in kmer_counts.items():\n",
        "                    index = 0\n",
        "                    for amino_acid in kmer:\n",
        "                        index = index * 20 + amino_acid_map[amino_acid]\n",
        "                    vector[index] += count\n",
        "                # Add the vector to the list\n",
        "                vectors.append(vector)\n",
        "    return np.array(vectors)\n"
      ]
    },
    {
      "cell_type": "code",
      "execution_count": 10,
      "metadata": {
        "id": "VFZaN4QTK_tz"
      },
      "outputs": [],
      "source": [
        "fasta_encoded = encode_proteins('/content/drive/MyDrive/07project/training_pro_data',2)"
      ]
    },
    {
      "cell_type": "code",
      "execution_count": null,
      "metadata": {
        "id": "zCSbl5EVI2BN"
      },
      "outputs": [],
      "source": [
        "# # padding with zero\n",
        "# def pad_sequences(encoded_data, max_len, pad_value):\n",
        "#     padded_data = np.zeros((len(encoded_data), max_len)) + pad_value\n",
        "#     for i, seq in enumerate(encoded_data):\n",
        "#         seq_len = len(seq)\n",
        "#         if seq_len > max_len:\n",
        "#             seq = seq[:max_len]\n",
        "#         padded_data[i, :seq_len] = seq\n",
        "#     return padded_data\n"
      ]
    },
    {
      "cell_type": "code",
      "execution_count": 11,
      "metadata": {
        "id": "hBMdBcZ0LpAV",
        "colab": {
          "base_uri": "https://localhost:8080/"
        },
        "outputId": "510f8064-82d1-4b84-8e1e-8efc3a8cbd41"
      },
      "outputs": [
        {
          "output_type": "execute_result",
          "data": {
            "text/plain": [
              "(20000, 400)"
            ]
          },
          "metadata": {},
          "execution_count": 11
        }
      ],
      "source": [
        "fasta_encoded.shape"
      ]
    },
    {
      "cell_type": "markdown",
      "metadata": {
        "id": "fSOmpxNQVQVt"
      },
      "source": [
        "Coding SMILES"
      ]
    },
    {
      "cell_type": "code",
      "source": [
        "smiles_sequences = []\n",
        "for i in range(20000):\n",
        "  smiles_sequences.append(df['SMILES'][i])"
      ],
      "metadata": {
        "id": "HiwsGtJ_rJKR"
      },
      "execution_count": 12,
      "outputs": []
    },
    {
      "cell_type": "code",
      "source": [
        "from rdkit import Chem\n",
        "from rdkit.Chem import AllChem"
      ],
      "metadata": {
        "id": "EGRgq6kamDJF"
      },
      "execution_count": 13,
      "outputs": []
    },
    {
      "cell_type": "code",
      "source": [
        "def encode_smiles_with_fingerprint(smiles_list, fingerprint_radius):\n",
        "    fingerprints = []\n",
        "    for smiles in smiles_list:\n",
        "        mol = Chem.MolFromSmiles(smiles)\n",
        "        fp = AllChem.GetMorganFingerprintAsBitVect(mol, fingerprint_radius)\n",
        "        fp_array = fp.ToBitString()\n",
        "        fingerprints.append(fp_array)\n",
        "    return fingerprints\n",
        "\n",
        "# Example usage\n",
        "fingerprint_radius = 2\n",
        "smiles_encoded = encode_smiles_with_fingerprint(smiles_sequences, fingerprint_radius)"
      ],
      "metadata": {
        "id": "b7peIKB-iCKh"
      },
      "execution_count": 14,
      "outputs": []
    },
    {
      "cell_type": "code",
      "execution_count": 15,
      "metadata": {
        "id": "c9_5Rfy1D4r9"
      },
      "outputs": [],
      "source": [
        "# Split each string into a list of characters\n",
        "smiles_encoded = [list(string) for string in smiles_encoded]\n",
        "\n",
        "# Convert each character to a floating-point number\n",
        "smiles_encoded = [[float(char) for char in inner_list] for inner_list in smiles_encoded]\n",
        "\n",
        "# Convert the list of floats to a 2 dimensional NumPy array\n",
        "smiles_encoded = np.array(smiles_encoded, dtype=float)"
      ]
    },
    {
      "cell_type": "code",
      "source": [
        "smiles_encoded.shape"
      ],
      "metadata": {
        "id": "mfWAjsh-0Vd0",
        "colab": {
          "base_uri": "https://localhost:8080/"
        },
        "outputId": "b02e908f-33ad-42eb-8783-82540458294b"
      },
      "execution_count": 16,
      "outputs": [
        {
          "output_type": "execute_result",
          "data": {
            "text/plain": [
              "(20000, 2048)"
            ]
          },
          "metadata": {},
          "execution_count": 16
        }
      ]
    },
    {
      "cell_type": "code",
      "execution_count": 17,
      "metadata": {
        "id": "stsKhTw7Ei2h"
      },
      "outputs": [],
      "source": [
        "# training_label y_train\n",
        "y_train = []\n",
        "for i in range(20000):\n",
        "  y_train.append(df['is_active'][i])\n",
        "y_train = np.array(y_train)"
      ]
    },
    {
      "cell_type": "code",
      "source": [
        "y_train = y_train.reshape(20000,1)"
      ],
      "metadata": {
        "id": "X7kaC6hanIXw"
      },
      "execution_count": 18,
      "outputs": []
    },
    {
      "cell_type": "code",
      "source": [
        "y_train.shape"
      ],
      "metadata": {
        "colab": {
          "base_uri": "https://localhost:8080/"
        },
        "id": "P9eRXHkDnY0w",
        "outputId": "2d49561d-9884-476c-cfb9-2a1c881bd7cd"
      },
      "execution_count": 19,
      "outputs": [
        {
          "output_type": "execute_result",
          "data": {
            "text/plain": [
              "(20000, 1)"
            ]
          },
          "metadata": {},
          "execution_count": 19
        }
      ]
    },
    {
      "cell_type": "code",
      "execution_count": 20,
      "metadata": {
        "id": "5qVtktVygDTH"
      },
      "outputs": [],
      "source": [
        "import torch\n",
        "import torch.nn as nn\n",
        "import torch.optim as optim\n",
        "from torch.utils.data import DataLoader\n",
        "from torch.utils.data import Dataset, DataLoader"
      ]
    },
    {
      "cell_type": "code",
      "execution_count": 21,
      "metadata": {
        "id": "mcYj3XfsZvGt"
      },
      "outputs": [],
      "source": [
        "device = torch.device('cuda' if torch.cuda.is_available() else 'cpu')"
      ]
    },
    {
      "cell_type": "code",
      "execution_count": 22,
      "metadata": {
        "id": "qYhbb_wqRLLM"
      },
      "outputs": [],
      "source": [
        "# Dataset class\n",
        "class BinaryClassificationDataset(Dataset):\n",
        "    def __init__(self, X_train_1, X_train_2, y_train):\n",
        "        self.X_train_1 = X_train_1\n",
        "        self.X_train_2 = X_train_2\n",
        "        self.y_train = y_train\n",
        "\n",
        "    def __len__(self):\n",
        "        return len(self.y_train)\n",
        "\n",
        "    def __getitem__(self, idx):\n",
        "        return self.X_train_1[idx], self.X_train_2[idx], self.y_train[idx]\n",
        "\n",
        "# Create the dataset object\n",
        "train_dataset = BinaryClassificationDataset(fasta_encoded, smiles_encoded, y_train)\n",
        "\n",
        "# Calculate the number of samples in the validation set\n",
        "validation_split = 0.2\n",
        "val_size = int(validation_split * len(train_dataset))\n",
        "\n",
        "# Split the dataset into training and validation sets\n",
        "train_dataset, val_dataset = torch.utils.data.random_split(train_dataset, [len(train_dataset) - val_size, val_size])\n",
        "\n",
        "# Create the dataloaders\n",
        "batch_size = 64\n",
        "train_dataloader = DataLoader(train_dataset, batch_size=batch_size, shuffle=True, drop_last=True)\n",
        "val_dataloader = DataLoader(val_dataset, batch_size=batch_size, shuffle=False, drop_last=True)\n"
      ]
    },
    {
      "cell_type": "code",
      "source": [
        "print(len(train_dataloader))"
      ],
      "metadata": {
        "colab": {
          "base_uri": "https://localhost:8080/"
        },
        "id": "lsecVkFEcD0K",
        "outputId": "9d95373e-3d07-45ac-f7e9-78d7cd56213a"
      },
      "execution_count": 24,
      "outputs": [
        {
          "output_type": "stream",
          "name": "stdout",
          "text": [
            "250\n"
          ]
        }
      ]
    },
    {
      "cell_type": "code",
      "execution_count": 25,
      "metadata": {
        "colab": {
          "base_uri": "https://localhost:8080/"
        },
        "id": "iP8KNT7rp3YJ",
        "outputId": "b73ce390-1282-42f2-bf77-c624cb7c4e4a"
      },
      "outputs": [
        {
          "output_type": "stream",
          "name": "stderr",
          "text": [
            "<ipython-input-25-401a2252e94d>:86: UserWarning: To copy construct from a tensor, it is recommended to use sourceTensor.clone().detach() or sourceTensor.clone().detach().requires_grad_(True), rather than torch.tensor(sourceTensor).\n",
            "  outputs = model(torch.tensor(inputs1).to(torch.float32), torch.tensor(inputs2).to(torch.float32))\n",
            "<ipython-input-25-401a2252e94d>:102: UserWarning: To copy construct from a tensor, it is recommended to use sourceTensor.clone().detach() or sourceTensor.clone().detach().requires_grad_(True), rather than torch.tensor(sourceTensor).\n",
            "  outputs = model(torch.tensor(inputs1).to(torch.float32), torch.tensor(inputs2).to(torch.float32))\n"
          ]
        },
        {
          "output_type": "stream",
          "name": "stdout",
          "text": [
            "Epoch: 1/25 | Train Loss: 1.4900 | Val Loss: 1.4008\n",
            "Epoch: 2/25 | Train Loss: 1.3448 | Val Loss: 1.3339\n",
            "Epoch: 3/25 | Train Loss: 1.2906 | Val Loss: 1.2604\n",
            "Epoch: 4/25 | Train Loss: 1.2493 | Val Loss: 1.2255\n",
            "Epoch: 5/25 | Train Loss: 1.2254 | Val Loss: 1.2088\n",
            "Epoch: 6/25 | Train Loss: 1.2020 | Val Loss: 1.2080\n",
            "Epoch: 7/25 | Train Loss: 1.1809 | Val Loss: 1.1879\n",
            "Epoch: 8/25 | Train Loss: 1.1696 | Val Loss: 1.1858\n",
            "Epoch: 9/25 | Train Loss: 1.1556 | Val Loss: 1.1704\n",
            "Epoch: 10/25 | Train Loss: 1.1432 | Val Loss: 1.1722\n",
            "Epoch: 11/25 | Train Loss: 1.1283 | Val Loss: 1.1645\n",
            "Epoch: 12/25 | Train Loss: 1.1178 | Val Loss: 1.1913\n",
            "Epoch: 13/25 | Train Loss: 1.1080 | Val Loss: 1.1617\n",
            "Epoch: 14/25 | Train Loss: 1.0991 | Val Loss: 1.1595\n",
            "Epoch: 15/25 | Train Loss: 1.0926 | Val Loss: 1.1565\n",
            "Epoch: 16/25 | Train Loss: 1.0833 | Val Loss: 1.1556\n",
            "Epoch: 17/25 | Train Loss: 1.0766 | Val Loss: 1.1533\n",
            "Epoch: 18/25 | Train Loss: 1.0802 | Val Loss: 1.1745\n",
            "Epoch: 19/25 | Train Loss: 1.0659 | Val Loss: 1.1593\n",
            "Epoch: 20/25 | Train Loss: 1.0590 | Val Loss: 1.1600\n",
            "Epoch: 21/25 | Train Loss: 1.0549 | Val Loss: 1.2083\n",
            "Epoch: 22/25 | Train Loss: 1.0515 | Val Loss: 1.1660\n",
            "Epoch: 23/25 | Train Loss: 1.0462 | Val Loss: 1.1580\n",
            "Epoch: 24/25 | Train Loss: 1.0457 | Val Loss: 1.1622\n",
            "Epoch: 25/25 | Train Loss: 1.0354 | Val Loss: 1.1567\n"
          ]
        }
      ],
      "source": [
        "import torch\n",
        "import torch.nn as nn\n",
        "import torch.optim as optim\n",
        "import torch.nn.functional as F\n",
        "\n",
        "# define the network structure\n",
        "class Net(nn.Module):\n",
        "    def __init__(self):\n",
        "        super(Net, self).__init__()\n",
        "        \n",
        "        # First branch for processing the first input\n",
        "        self.conv1_1 = nn.Conv1d(1, 16, kernel_size=5)\n",
        "        self.bn1_1 = nn.BatchNorm1d(16)\n",
        "        self.pool1 = nn.MaxPool1d(2)\n",
        "        self.conv2_1 = nn.Conv1d(16, 32, kernel_size=5)\n",
        "        self.bn2_1 = nn.BatchNorm1d(32)\n",
        "        \n",
        "        # Second branch for processing the second input\n",
        "        self.conv1_2 = nn.Conv1d(1, 16, kernel_size=5)\n",
        "        self.bn1_2 = nn.BatchNorm1d(16)\n",
        "        self.pool2 = nn.MaxPool1d(2)\n",
        "        self.conv2_2 = nn.Conv1d(16, 32, kernel_size=5)\n",
        "        self.bn2_2 = nn.BatchNorm1d(32)\n",
        "        \n",
        "        # Third branch for processing the concatenated feature map\n",
        "        self.conv1_3 = nn.Conv1d(32, 32, kernel_size=5)\n",
        "        self.bn1_3 = nn.BatchNorm1d(32)\n",
        "        self.pool3 = nn.MaxPool1d(2)\n",
        "        self.conv2_3 = nn.Conv1d(32, 64, kernel_size=4)\n",
        "        self.bn2_3 = nn.BatchNorm1d(64)\n",
        "        \n",
        "        # Fully connected layers\n",
        "        self.fc1 = nn.Linear(9536, 128)\n",
        "        self.fc2 = nn.Linear(128, 1)\n",
        "        self.sigmoid = nn.Sigmoid()\n",
        "\n",
        "    def forward(self, x1, x2):\n",
        "        # First branch\n",
        "        x1 = x1.reshape(-1,1,400)\n",
        "        x1 = self.pool1(F.relu(self.bn1_1(self.conv1_1(x1))))\n",
        "        x1 = self.pool1(F.relu(self.bn2_1(self.conv2_1(x1))))\n",
        "        \n",
        "        # Second branch\n",
        "        x2 = x2.reshape(-1,1,2048)\n",
        "        x2 = self.pool2(F.relu(self.bn1_2(self.conv1_2(x2))))\n",
        "        x2 = self.pool2(F.relu(self.bn2_2(self.conv2_2(x2))))\n",
        "        \n",
        "        # Concatenate the feature maps\n",
        "        x = torch.cat([x1, x2], 2)\n",
        "        \n",
        "        # Pass the concatenated feature maps to the third\n",
        "        x = x.reshape(-1, 32, 606)\n",
        "        x = self.pool3(F.relu(self.bn1_3(self.conv1_3(x))))\n",
        "        x = self.pool3(F.relu(self.bn2_3(self.conv2_3(x))))\n",
        "        x = x.flatten(1,-1)\n",
        "        \n",
        "        # Pass the processed feature map through fully connected layers\n",
        "        x = F.relu(self.fc1(x))\n",
        "        x = self.fc2(x)\n",
        "        x = self.sigmoid(x)\n",
        "    \n",
        "        return x\n",
        "\n",
        "\n",
        "\n",
        "# initialize the network\n",
        "model = Net()\n",
        "\n",
        "\n",
        "# define the loss function and optimizer\n",
        "criterion = nn.BCELoss()\n",
        "optimizer = optim.SGD(model.parameters(), lr=0.005)\n",
        "\n",
        "train_loss_list = []\n",
        "val_loss_list = []\n",
        "# train the network\n",
        "num_epoch = 25\n",
        "for epoch in range(num_epoch):\n",
        "    running_loss = 0.0\n",
        "    correct = 0\n",
        "    total = 0\n",
        "    for i, data in enumerate(train_dataloader, 0):\n",
        "        inputs1, inputs2, labels = data\n",
        "        inputs1, inputs2, labels = inputs1.double(), inputs2.double(), labels.double() # convert inputs to float\n",
        "        optimizer.zero_grad()\n",
        "        outputs = model(torch.tensor(inputs1).to(torch.float32), torch.tensor(inputs2).to(torch.float32))\n",
        "        loss = criterion(outputs.type(torch.float32), labels.type(torch.float32))\n",
        "        loss.backward()\n",
        "        optimizer.step()\n",
        "        running_loss += loss.item()\n",
        "        correct += (torch.round(outputs) == labels).sum().item()\n",
        "        total += labels.size(0)\n",
        "    train_loss_list.append(running_loss/i+1)    \n",
        "    train_acc = correct / total\n",
        "    val_loss = 0.0\n",
        "    val_correct = 0\n",
        "    val_total = 0\n",
        "    with torch.no_grad():\n",
        "        for i, data in enumerate(val_dataloader, 0):\n",
        "            inputs1, inputs2, labels = data\n",
        "            inputs1, inputs2, labels = inputs1, inputs2, labels\n",
        "            outputs = model(torch.tensor(inputs1).to(torch.float32), torch.tensor(inputs2).to(torch.float32))\n",
        "            val_loss += criterion(outputs.type(torch.float32), labels.type(torch.float32)).item()\n",
        "            val_correct += (torch.round(outputs) == labels).sum().item()\n",
        "            val_total += labels.size(0)\n",
        "        val_loss_list.append(val_loss/i+1)\n",
        "        val_acc = val_correct / val_total\n",
        "    print(\"Epoch: {}/{} | Train Loss: {:.4f} | Val Loss: {:.4f}\"\n",
        "          .format(epoch + 1, num_epoch, train_loss_list[-1], val_loss_list[-1]))\n",
        "\n"
      ]
    },
    {
      "cell_type": "code",
      "execution_count": 26,
      "metadata": {
        "id": "yqHEt6m75P3Y",
        "colab": {
          "base_uri": "https://localhost:8080/",
          "height": 295
        },
        "outputId": "6c584478-ebef-4e55-b993-0cd5111bf635"
      },
      "outputs": [
        {
          "output_type": "display_data",
          "data": {
            "text/plain": [
              "<Figure size 432x288 with 1 Axes>"
            ],
            "image/png": "[encoded data removed]"
          },
          "metadata": {
            "needs_background": "light"
          }
        }
      ],
      "source": [
        "epochs = range(1, num_epoch + 1)\n",
        "\n",
        "sns.lineplot(x=epochs, y=train_loss_list, label=\"train loss\")\n",
        "sns.lineplot(x=epochs, y=val_loss_list, label=\"val loss\")\n",
        "\n",
        "plt.xlabel('Epoch')\n",
        "plt.ylabel('Loss')\n",
        "plt.title('Train and Validation Loss')\n",
        "plt.legend()\n",
        "plt.show()"
      ]
    },
    {
      "cell_type": "code",
      "source": [
        "# Save the entire model to disk\n",
        "torch.save(model.state_dict(), \"/content/drive/MyDrive/07project/model_new.pt\")\n",
        "# torch.save(model.state_dict(), \"model_new.pt\")"
      ],
      "metadata": {
        "id": "a9_OlDmSI6Vx"
      },
      "execution_count": 27,
      "outputs": []
    },
    {
      "cell_type": "code",
      "source": [],
      "metadata": {
        "id": "O869yJsfSdxf"
      },
      "execution_count": null,
      "outputs": []
    }
  ],
  "metadata": {
    "colab": {
      "machine_shape": "hm",
      "provenance": []
    },
    "gpuClass": "standard",
    "kernelspec": {
      "display_name": "Python 3",
      "name": "python3"
    },
    "language_info": {
      "name": "python"
    }
  },
  "nbformat": 4,
  "nbformat_minor": 0
}