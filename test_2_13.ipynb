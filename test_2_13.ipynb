{
  "nbformat": 4,
  "nbformat_minor": 0,
  "metadata": {
    "colab": {
      "provenance": [],
      "machine_shape": "hm"
    },
    "kernelspec": {
      "name": "python3",
      "display_name": "Python 3"
    },
    "language_info": {
      "name": "python"
    },
    "gpuClass": "standard"
  },
  "cells": [
    {
      "cell_type": "code",
      "source": [
        "!pip install rdkit"
      ],
      "metadata": {
        "colab": {
          "base_uri": "https://localhost:8080/"
        },
        "id": "VpML3ocXtLdH",
        "outputId": "5e987fea-4f2f-49ca-92f5-77c97f1fa84b"
      },
      "execution_count": 1,
      "outputs": [
        {
          "output_type": "stream",
          "name": "stdout",
          "text": [
            "Looking in indexes: https://pypi.org/simple, https://us-python.pkg.dev/colab-wheels/public/simple/\n",
            "Collecting rdkit\n",
            "  Downloading rdkit-2022.9.4-cp38-cp38-manylinux_2_17_x86_64.manylinux2014_x86_64.whl (29.3 MB)\n",
            "\u001b[2K     \u001b[90m━━━━━━━━━━━━━━━━━━━━━━━━━━━━━━━━━━━━━━━━\u001b[0m \u001b[32m29.3/29.3 MB\u001b[0m \u001b[31m48.4 MB/s\u001b[0m eta \u001b[36m0:00:00\u001b[0m\n",
            "\u001b[?25hRequirement already satisfied: numpy in /usr/local/lib/python3.8/dist-packages (from rdkit) (1.21.6)\n",
            "Requirement already satisfied: Pillow in /usr/local/lib/python3.8/dist-packages (from rdkit) (7.1.2)\n",
            "Installing collected packages: rdkit\n",
            "Successfully installed rdkit-2022.9.4\n"
          ]
        }
      ]
    },
    {
      "cell_type": "code",
      "execution_count": 2,
      "metadata": {
        "colab": {
          "base_uri": "https://localhost:8080/"
        },
        "id": "Z4_oJd-cKQoh",
        "outputId": "ec9b7510-042b-49ec-dfe5-4f370474b1de"
      },
      "outputs": [
        {
          "output_type": "stream",
          "name": "stdout",
          "text": [
            "Looking in indexes: https://pypi.org/simple, https://us-python.pkg.dev/colab-wheels/public/simple/\n",
            "Requirement already satisfied: torch in /usr/local/lib/python3.8/dist-packages (1.13.1+cu116)\n",
            "Requirement already satisfied: typing-extensions in /usr/local/lib/python3.8/dist-packages (from torch) (4.4.0)\n",
            "Looking in indexes: https://pypi.org/simple, https://us-python.pkg.dev/colab-wheels/public/simple/\n",
            "Requirement already satisfied: torchvision in /usr/local/lib/python3.8/dist-packages (0.14.1+cu116)\n",
            "Requirement already satisfied: requests in /usr/local/lib/python3.8/dist-packages (from torchvision) (2.25.1)\n",
            "Requirement already satisfied: pillow!=8.3.*,>=5.3.0 in /usr/local/lib/python3.8/dist-packages (from torchvision) (7.1.2)\n",
            "Requirement already satisfied: numpy in /usr/local/lib/python3.8/dist-packages (from torchvision) (1.21.6)\n",
            "Requirement already satisfied: typing-extensions in /usr/local/lib/python3.8/dist-packages (from torchvision) (4.4.0)\n",
            "Requirement already satisfied: torch==1.13.1 in /usr/local/lib/python3.8/dist-packages (from torchvision) (1.13.1+cu116)\n",
            "Requirement already satisfied: certifi>=2017.4.17 in /usr/local/lib/python3.8/dist-packages (from requests->torchvision) (2022.12.7)\n",
            "Requirement already satisfied: urllib3<1.27,>=1.21.1 in /usr/local/lib/python3.8/dist-packages (from requests->torchvision) (1.24.3)\n",
            "Requirement already satisfied: idna<3,>=2.5 in /usr/local/lib/python3.8/dist-packages (from requests->torchvision) (2.10)\n",
            "Requirement already satisfied: chardet<5,>=3.0.2 in /usr/local/lib/python3.8/dist-packages (from requests->torchvision) (4.0.0)\n"
          ]
        }
      ],
      "source": [
        "!pip install torch\n",
        "!pip install torchvision"
      ]
    },
    {
      "cell_type": "code",
      "source": [
        "from google.colab import drive\n",
        "drive.mount('/content/drive')"
      ],
      "metadata": {
        "colab": {
          "base_uri": "https://localhost:8080/"
        },
        "id": "wJhxDkCLLeeI",
        "outputId": "b7fb3ffa-9b1b-48b9-ed1c-65ca22bdc526"
      },
      "execution_count": 3,
      "outputs": [
        {
          "output_type": "stream",
          "name": "stdout",
          "text": [
            "Mounted at /content/drive\n"
          ]
        }
      ]
    },
    {
      "cell_type": "code",
      "source": [
        "import os\n",
        "import shutil\n",
        "from glob import glob\n",
        "import pandas as pd\n",
        "import numpy as np\n",
        "import seaborn as sns\n",
        "import matplotlib.pyplot as plt"
      ],
      "metadata": {
        "id": "QdnSol1BLfA2"
      },
      "execution_count": 4,
      "outputs": []
    },
    {
      "cell_type": "code",
      "source": [
        "df = pd.read_csv('/content/drive/MyDrive/07project/dataset.csv')\n",
        "df"
      ],
      "metadata": {
        "id": "j-fgO2kHLgt0",
        "colab": {
          "base_uri": "https://localhost:8080/",
          "height": 424
        },
        "outputId": "3776d7d5-8c17-4663-ff70-00220f7b0dc9"
      },
      "execution_count": 5,
      "outputs": [
        {
          "output_type": "execute_result",
          "data": {
            "text/plain": [
              "      PDB ID                                             SMILES  is_active\n",
              "0       2VT4         OC(CNCCOc2ccc(n1ccnc1)cc2)CONC(C3CC3)C4CC4          1\n",
              "1       1ZW5                    C(CC(=O)[O-])[C@H](CS)C(=O)[O-]          0\n",
              "2       3FRJ  Cc1cccn2c1nc(c(c2=O)/C=C/3\\C(=O)N(C(=S)S3)Cc4c...          0\n",
              "3       3MAX     Cc1ccc(cc1Cl)Nc2nnc(s2)SCC(=O)Nc3c(ccs3)C(=O)N          0\n",
              "4       2RGP  C[C@@H]1CCCC[C@H]1[NH2+][C@@H]2c3cc(c(cc3NC2=O...          0\n",
              "...      ...                                                ...        ...\n",
              "29995   2OF2  Cc2ccc(C(=O)Nc1cccc(C(F)(F)F)c1)cc2C#Cc3cnc(N)nc3          1\n",
              "29996   3EML               c1ccc(cc1)S(=O)(=O)Nc2cccc3c2n[nH]n3          0\n",
              "29997   3L3M                 NC(=O)c3cccc2CN(CC1CCNCC1)C(=O)c23          1\n",
              "29998   3LAN          CCn1cnc2c(c1=O)c(c(s2)C(=O)Nc3ccc(cc3)O)C          0\n",
              "29999   3PBL          Cc1cc2c(n1c3cnn(c3)C(C)C)CC(C[C@H]2O)(C)C          0\n",
              "\n",
              "[30000 rows x 3 columns]"
            ],
            "text/html": [
              "\n",
              "  <div id=\"df-89e1acfc-3af0-4830-89b7-532ca73ce1a6\">\n",
              "    <div class=\"colab-df-container\">\n",
              "      <div>\n",
              "<style scoped>\n",
              "    .dataframe tbody tr th:only-of-type {\n",
              "        vertical-align: middle;\n",
              "    }\n",
              "\n",
              "    .dataframe tbody tr th {\n",
              "        vertical-align: top;\n",
              "    }\n",
              "\n",
              "    .dataframe thead th {\n",
              "        text-align: right;\n",
              "    }\n",
              "</style>\n",
              "<table border=\"1\" class=\"dataframe\">\n",
              "  <thead>\n",
              "    <tr style=\"text-align: right;\">\n",
              "      <th></th>\n",
              "      <th>PDB ID</th>\n",
              "      <th>SMILES</th>\n",
              "      <th>is_active</th>\n",
              "    </tr>\n",
              "  </thead>\n",
              "  <tbody>\n",
              "    <tr>\n",
              "      <th>0</th>\n",
              "      <td>2VT4</td>\n",
              "      <td>OC(CNCCOc2ccc(n1ccnc1)cc2)CONC(C3CC3)C4CC4</td>\n",
              "      <td>1</td>\n",
              "    </tr>\n",
              "    <tr>\n",
              "      <th>1</th>\n",
              "      <td>1ZW5</td>\n",
              "      <td>C(CC(=O)[O-])[C@H](CS)C(=O)[O-]</td>\n",
              "      <td>0</td>\n",
              "    </tr>\n",
              "    <tr>\n",
              "      <th>2</th>\n",
              "      <td>3FRJ</td>\n",
              "      <td>Cc1cccn2c1nc(c(c2=O)/C=C/3\\C(=O)N(C(=S)S3)Cc4c...</td>\n",
              "      <td>0</td>\n",
              "    </tr>\n",
              "    <tr>\n",
              "      <th>3</th>\n",
              "      <td>3MAX</td>\n",
              "      <td>Cc1ccc(cc1Cl)Nc2nnc(s2)SCC(=O)Nc3c(ccs3)C(=O)N</td>\n",
              "      <td>0</td>\n",
              "    </tr>\n",
              "    <tr>\n",
              "      <th>4</th>\n",
              "      <td>2RGP</td>\n",
              "      <td>C[C@@H]1CCCC[C@H]1[NH2+][C@@H]2c3cc(c(cc3NC2=O...</td>\n",
              "      <td>0</td>\n",
              "    </tr>\n",
              "    <tr>\n",
              "      <th>...</th>\n",
              "      <td>...</td>\n",
              "      <td>...</td>\n",
              "      <td>...</td>\n",
              "    </tr>\n",
              "    <tr>\n",
              "      <th>29995</th>\n",
              "      <td>2OF2</td>\n",
              "      <td>Cc2ccc(C(=O)Nc1cccc(C(F)(F)F)c1)cc2C#Cc3cnc(N)nc3</td>\n",
              "      <td>1</td>\n",
              "    </tr>\n",
              "    <tr>\n",
              "      <th>29996</th>\n",
              "      <td>3EML</td>\n",
              "      <td>c1ccc(cc1)S(=O)(=O)Nc2cccc3c2n[nH]n3</td>\n",
              "      <td>0</td>\n",
              "    </tr>\n",
              "    <tr>\n",
              "      <th>29997</th>\n",
              "      <td>3L3M</td>\n",
              "      <td>NC(=O)c3cccc2CN(CC1CCNCC1)C(=O)c23</td>\n",
              "      <td>1</td>\n",
              "    </tr>\n",
              "    <tr>\n",
              "      <th>29998</th>\n",
              "      <td>3LAN</td>\n",
              "      <td>CCn1cnc2c(c1=O)c(c(s2)C(=O)Nc3ccc(cc3)O)C</td>\n",
              "      <td>0</td>\n",
              "    </tr>\n",
              "    <tr>\n",
              "      <th>29999</th>\n",
              "      <td>3PBL</td>\n",
              "      <td>Cc1cc2c(n1c3cnn(c3)C(C)C)CC(C[C@H]2O)(C)C</td>\n",
              "      <td>0</td>\n",
              "    </tr>\n",
              "  </tbody>\n",
              "</table>\n",
              "<p>30000 rows × 3 columns</p>\n",
              "</div>\n",
              "      <button class=\"colab-df-convert\" onclick=\"convertToInteractive('df-89e1acfc-3af0-4830-89b7-532ca73ce1a6')\"\n",
              "              title=\"Convert this dataframe to an interactive table.\"\n",
              "              style=\"display:none;\">\n",
              "        \n",
              "  <svg xmlns=\"http://www.w3.org/2000/svg\" height=\"24px\"viewBox=\"0 0 24 24\"\n",
              "       width=\"24px\">\n",
              "    <path d=\"M0 0h24v24H0V0z\" fill=\"none\"/>\n",
              "    <path d=\"M18.56 5.44l.94 2.06.94-2.06 2.06-.94-2.06-.94-.94-2.06-.94 2.06-2.06.94zm-11 1L8.5 8.5l.94-2.06 2.06-.94-2.06-.94L8.5 2.5l-.94 2.06-2.06.94zm10 10l.94 2.06.94-2.06 2.06-.94-2.06-.94-.94-2.06-.94 2.06-2.06.94z\"/><path d=\"M17.41 7.96l-1.37-1.37c-.4-.4-.92-.59-1.43-.59-.52 0-1.04.2-1.43.59L10.3 9.45l-7.72 7.72c-.78.78-.78 2.05 0 2.83L4 21.41c.39.39.9.59 1.41.59.51 0 1.02-.2 1.41-.59l7.78-7.78 2.81-2.81c.8-.78.8-2.07 0-2.86zM5.41 20L4 18.59l7.72-7.72 1.47 1.35L5.41 20z\"/>\n",
              "  </svg>\n",
              "      </button>\n",
              "      \n",
              "  <style>\n",
              "    .colab-df-container {\n",
              "      display:flex;\n",
              "      flex-wrap:wrap;\n",
              "      gap: 12px;\n",
              "    }\n",
              "\n",
              "    .colab-df-convert {\n",
              "      background-color: #E8F0FE;\n",
              "      border: none;\n",
              "      border-radius: 50%;\n",
              "      cursor: pointer;\n",
              "      display: none;\n",
              "      fill: #1967D2;\n",
              "      height: 32px;\n",
              "      padding: 0 0 0 0;\n",
              "      width: 32px;\n",
              "    }\n",
              "\n",
              "    .colab-df-convert:hover {\n",
              "      background-color: #E2EBFA;\n",
              "      box-shadow: 0px 1px 2px rgba(60, 64, 67, 0.3), 0px 1px 3px 1px rgba(60, 64, 67, 0.15);\n",
              "      fill: #174EA6;\n",
              "    }\n",
              "\n",
              "    [theme=dark] .colab-df-convert {\n",
              "      background-color: #3B4455;\n",
              "      fill: #D2E3FC;\n",
              "    }\n",
              "\n",
              "    [theme=dark] .colab-df-convert:hover {\n",
              "      background-color: #434B5C;\n",
              "      box-shadow: 0px 1px 3px 1px rgba(0, 0, 0, 0.15);\n",
              "      filter: drop-shadow(0px 1px 2px rgba(0, 0, 0, 0.3));\n",
              "      fill: #FFFFFF;\n",
              "    }\n",
              "  </style>\n",
              "\n",
              "      <script>\n",
              "        const buttonEl =\n",
              "          document.querySelector('#df-89e1acfc-3af0-4830-89b7-532ca73ce1a6 button.colab-df-convert');\n",
              "        buttonEl.style.display =\n",
              "          google.colab.kernel.accessAllowed ? 'block' : 'none';\n",
              "\n",
              "        async function convertToInteractive(key) {\n",
              "          const element = document.querySelector('#df-89e1acfc-3af0-4830-89b7-532ca73ce1a6');\n",
              "          const dataTable =\n",
              "            await google.colab.kernel.invokeFunction('convertToInteractive',\n",
              "                                                     [key], {});\n",
              "          if (!dataTable) return;\n",
              "\n",
              "          const docLinkHtml = 'Like what you see? Visit the ' +\n",
              "            '<a target=\"_blank\" href=https://colab.research.google.com/notebooks/data_table.ipynb>data table notebook</a>'\n",
              "            + ' to learn more about interactive tables.';\n",
              "          element.innerHTML = '';\n",
              "          dataTable['output_type'] = 'display_data';\n",
              "          await google.colab.output.renderOutput(dataTable, element);\n",
              "          const docLink = document.createElement('div');\n",
              "          docLink.innerHTML = docLinkHtml;\n",
              "          element.appendChild(docLink);\n",
              "        }\n",
              "      </script>\n",
              "    </div>\n",
              "  </div>\n",
              "  "
            ]
          },
          "metadata": {},
          "execution_count": 5
        }
      ]
    },
    {
      "cell_type": "code",
      "source": [
        "test_pro = []\n",
        "for i in range(20000,30000):\n",
        "  test_pro.append(df['PDB ID'][i])"
      ],
      "metadata": {
        "id": "hduhFZ23Ls8G"
      },
      "execution_count": 6,
      "outputs": []
    },
    {
      "cell_type": "code",
      "source": [
        "# for i in range(len(test_pro)):\n",
        "#   shutil.copy(f'/content/drive/MyDrive/07project/07Data/{test_pro[i]}.fasta','/content/drive/MyDrive/07project/testing_pro_data/{:05d}_pro.fasta'.format(i + 1))"
      ],
      "metadata": {
        "id": "n2qF3gMKMIrX"
      },
      "execution_count": 7,
      "outputs": []
    },
    {
      "cell_type": "markdown",
      "source": [
        "Encoding"
      ],
      "metadata": {
        "id": "LBDMimm7TlG7"
      }
    },
    {
      "cell_type": "code",
      "source": [
        "import os\n",
        "from collections import Counter\n",
        "\n",
        "def encode_proteins(folder_path, k):\n",
        "    # Create a mapping from amino acids to numerical values\n",
        "    amino_acid_map = {\"A\": 0, \"C\": 1, \"D\": 2, \"E\": 3, \"F\": 4,\n",
        "                      \"G\": 5, \"H\": 6, \"I\": 7, \"K\": 8, \"L\": 9,\n",
        "                      \"M\": 10, \"N\": 11, \"P\": 12, \"Q\": 13, \"R\": 14,\n",
        "                      \"S\": 15, \"T\": 16, \"V\": 17, \"W\": 18, \"Y\": 19}\n",
        "    # Initialize the list to store the vectors\n",
        "    vectors = []\n",
        "    # Loop through each file in the folder\n",
        "    for file in os.listdir(folder_path):\n",
        "        if file.endswith(\".fasta\"):\n",
        "            with open(os.path.join(folder_path, file), 'r') as f:\n",
        "                # Read the sequence of amino acids from the file\n",
        "                amino_acids = f.read().strip()\n",
        "                # Create kmers of length k\n",
        "                kmers = [amino_acids[i:i+k] for i in range(len(amino_acids) - k + 1)]\n",
        "                # Count the frequency of each kmer\n",
        "                kmer_counts = Counter(kmers)\n",
        "                # Initialize the vector\n",
        "                vector = np.zeros((20**k,))\n",
        "                # Encode each kmer into a numerical value\n",
        "                for kmer, count in kmer_counts.items():\n",
        "                    index = 0\n",
        "                    for amino_acid in kmer:\n",
        "                        index = index * 20 + amino_acid_map[amino_acid]\n",
        "                    vector[index] += count\n",
        "                # Add the vector to the list\n",
        "                vectors.append(vector)\n",
        "    return np.array(vectors)\n"
      ],
      "metadata": {
        "id": "yfgApVQdSau-"
      },
      "execution_count": 8,
      "outputs": []
    },
    {
      "cell_type": "code",
      "source": [
        "fasta_encoded = encode_proteins('/content/drive/MyDrive/07project/testing_pro_data',2)"
      ],
      "metadata": {
        "id": "Ld8E9WwaTmgD"
      },
      "execution_count": 9,
      "outputs": []
    },
    {
      "cell_type": "code",
      "source": [
        "fasta_encoded.shape"
      ],
      "metadata": {
        "id": "FYNP85SuUHbA",
        "colab": {
          "base_uri": "https://localhost:8080/"
        },
        "outputId": "1afe17f9-f585-42f8-c719-bd8546fd9fda"
      },
      "execution_count": 10,
      "outputs": [
        {
          "output_type": "execute_result",
          "data": {
            "text/plain": [
              "(10000, 400)"
            ]
          },
          "metadata": {},
          "execution_count": 10
        }
      ]
    },
    {
      "cell_type": "code",
      "source": [
        "fasta_encoded"
      ],
      "metadata": {
        "colab": {
          "base_uri": "https://localhost:8080/"
        },
        "id": "IwHmfWJKw9gG",
        "outputId": "e96d2cc2-7a3b-4de4-8cf6-d5c3249b57a6"
      },
      "execution_count": 11,
      "outputs": [
        {
          "output_type": "execute_result",
          "data": {
            "text/plain": [
              "array([[10.,  2.,  0., ...,  6.,  0.,  6.],\n",
              "       [ 1.,  2.,  1., ...,  0.,  0.,  0.],\n",
              "       [ 0.,  0.,  0., ...,  0.,  0.,  0.],\n",
              "       ...,\n",
              "       [ 6.,  0.,  2., ...,  4.,  0.,  0.],\n",
              "       [ 1.,  2.,  2., ...,  0.,  0.,  1.],\n",
              "       [ 3.,  4.,  0., ...,  1.,  0.,  1.]])"
            ]
          },
          "metadata": {},
          "execution_count": 11
        }
      ]
    },
    {
      "cell_type": "code",
      "source": [
        "smiles_sequences = []\n",
        "for i in range(20000, 30000):\n",
        "  smiles_sequences.append(df['SMILES'][i])"
      ],
      "metadata": {
        "id": "VNmeHbziUL0Y"
      },
      "execution_count": 12,
      "outputs": []
    },
    {
      "cell_type": "code",
      "source": [
        "from rdkit import Chem\n",
        "from rdkit.Chem import AllChem"
      ],
      "metadata": {
        "id": "tIvsDPrmtIol"
      },
      "execution_count": 13,
      "outputs": []
    },
    {
      "cell_type": "code",
      "source": [
        "def encode_smiles_with_fingerprint(smiles_list, fingerprint_radius):\n",
        "    fingerprints = []\n",
        "    for smiles in smiles_list:\n",
        "        mol = Chem.MolFromSmiles(smiles)\n",
        "        fp = AllChem.GetMorganFingerprintAsBitVect(mol, fingerprint_radius)\n",
        "        fp_array = fp.ToBitString()\n",
        "        fingerprints.append(fp_array)\n",
        "    return fingerprints\n",
        "\n",
        "# Example usage\n",
        "fingerprint_radius = 2\n",
        "smiles_encoded = encode_smiles_with_fingerprint(smiles_sequences, fingerprint_radius)"
      ],
      "metadata": {
        "id": "-awmWwd3UJwD"
      },
      "execution_count": 14,
      "outputs": []
    },
    {
      "cell_type": "code",
      "source": [
        "# Split each string into a list of characters\n",
        "smiles_encoded = [list(string) for string in smiles_encoded]\n",
        "\n",
        "# Convert each character to a floating-point number\n",
        "smiles_encoded = [[float(char) for char in inner_list] for inner_list in smiles_encoded]\n",
        "\n",
        "# Convert the list of floats to a 2 dimensional NumPy array\n",
        "smiles_encoded = np.array(smiles_encoded, dtype=float)"
      ],
      "metadata": {
        "id": "BoKMZZpHvvd2"
      },
      "execution_count": 15,
      "outputs": []
    },
    {
      "cell_type": "code",
      "source": [
        "smiles_encoded.shape"
      ],
      "metadata": {
        "colab": {
          "base_uri": "https://localhost:8080/"
        },
        "id": "ivmnJbiJz6yo",
        "outputId": "cd27d0b7-8c07-442e-8910-1374d5a55890"
      },
      "execution_count": 16,
      "outputs": [
        {
          "output_type": "execute_result",
          "data": {
            "text/plain": [
              "(10000, 2048)"
            ]
          },
          "metadata": {},
          "execution_count": 16
        }
      ]
    },
    {
      "cell_type": "code",
      "source": [
        "# testing_label y_train\n",
        "y_test = []\n",
        "for i in range(20000,30000):\n",
        "  y_test.append(df['is_active'][i])\n",
        "y_test = np.array(y_test)\n"
      ],
      "metadata": {
        "id": "XqupIsAPUWcQ"
      },
      "execution_count": 17,
      "outputs": []
    },
    {
      "cell_type": "code",
      "source": [
        "y_test.shape"
      ],
      "metadata": {
        "id": "677A9VRdU9Ir",
        "colab": {
          "base_uri": "https://localhost:8080/"
        },
        "outputId": "24e80f6a-2a1b-4038-f278-8ae289e37275"
      },
      "execution_count": 18,
      "outputs": [
        {
          "output_type": "execute_result",
          "data": {
            "text/plain": [
              "(10000,)"
            ]
          },
          "metadata": {},
          "execution_count": 18
        }
      ]
    },
    {
      "cell_type": "code",
      "source": [
        "y_test = y_test.reshape(10000,1)"
      ],
      "metadata": {
        "id": "WPoov57-U7m3"
      },
      "execution_count": 19,
      "outputs": []
    },
    {
      "cell_type": "code",
      "source": [
        "import torch\n",
        "import torch.nn as nn\n",
        "import torch.optim as optim\n",
        "from torch.utils.data import DataLoader\n",
        "from torch.utils.data import Dataset, DataLoader"
      ],
      "metadata": {
        "id": "3na49CTFVCUq"
      },
      "execution_count": 20,
      "outputs": []
    },
    {
      "cell_type": "code",
      "source": [
        "device = torch.device('cuda' if torch.cuda.is_available() else 'cpu')"
      ],
      "metadata": {
        "id": "E70g6nyvVCvY"
      },
      "execution_count": 21,
      "outputs": []
    },
    {
      "cell_type": "code",
      "source": [
        "# Dataset class\n",
        "class BinaryClassificationDataset(Dataset):\n",
        "    def __init__(self, X_test_1, X_test_2, y_test):\n",
        "        self.X_test_1 = X_test_1\n",
        "        self.X_test_2 = X_test_2\n",
        "        self.y_test = y_test\n",
        "\n",
        "    def __len__(self):\n",
        "        return len(self.y_test)\n",
        "\n",
        "    def __getitem__(self, idx):\n",
        "        return self.X_test_1[idx], self.X_test_2[idx], self.y_test[idx]\n",
        "\n",
        "# Create the dataset object\n",
        "test_dataset = BinaryClassificationDataset(fasta_encoded, smiles_encoded ,y_test)\n",
        "\n",
        "\n",
        "# Create the dataloaders\n",
        "batch_size = 64\n",
        "test_dataloader = DataLoader(test_dataset, batch_size=batch_size, shuffle=False, drop_last=True)\n"
      ],
      "metadata": {
        "id": "avMdMRHLnQPk"
      },
      "execution_count": 22,
      "outputs": []
    },
    {
      "cell_type": "code",
      "source": [
        "import torch\n",
        "import torch.nn as nn\n",
        "import torch.nn.functional as F\n",
        "import numpy as np\n",
        "from sklearn.metrics import confusion_matrix\n",
        "from sklearn.metrics import roc_curve\n",
        "\n",
        "class Net(nn.Module):\n",
        "    def __init__(self):\n",
        "        super(Net, self).__init__()\n",
        "        \n",
        "        # First branch for processing the first input\n",
        "        self.conv1_1 = nn.Conv1d(1, 16, kernel_size=5)\n",
        "        self.bn1_1 = nn.BatchNorm1d(16)\n",
        "        self.pool1 = nn.MaxPool1d(2)\n",
        "        self.conv2_1 = nn.Conv1d(16, 32, kernel_size=5)\n",
        "        self.bn2_1 = nn.BatchNorm1d(32)\n",
        "        \n",
        "        # Second branch for processing the second input\n",
        "        self.conv1_2 = nn.Conv1d(1, 16, kernel_size=5)\n",
        "        self.bn1_2 = nn.BatchNorm1d(16)\n",
        "        self.pool2 = nn.MaxPool1d(2)\n",
        "        self.conv2_2 = nn.Conv1d(16, 32, kernel_size=5)\n",
        "        self.bn2_2 = nn.BatchNorm1d(32)\n",
        "        \n",
        "        # Third branch for processing the concatenated feature map\n",
        "        self.conv1_3 = nn.Conv1d(32, 32, kernel_size=5)\n",
        "        self.bn1_3 = nn.BatchNorm1d(32)\n",
        "        self.pool3 = nn.MaxPool1d(2)\n",
        "        self.conv2_3 = nn.Conv1d(32, 64, kernel_size=4)\n",
        "        self.bn2_3 = nn.BatchNorm1d(64)\n",
        "        \n",
        "        # Fully connected layers\n",
        "        self.fc1 = nn.Linear(9536, 128)\n",
        "        self.fc2 = nn.Linear(128, 1)\n",
        "        self.sigmoid = nn.Sigmoid()\n",
        "\n",
        "    def forward(self, x1, x2):\n",
        "        # First branch\n",
        "        x1 = x1.reshape(-1,1,400)\n",
        "        x1 = self.pool1(F.relu(self.bn1_1(self.conv1_1(x1))))\n",
        "        x1 = self.pool1(F.relu(self.bn2_1(self.conv2_1(x1))))\n",
        "        \n",
        "        # Second branch\n",
        "        x2 = x2.reshape(-1,1,2048)\n",
        "        x2 = self.pool2(F.relu(self.bn1_2(self.conv1_2(x2))))\n",
        "        x2 = self.pool2(F.relu(self.bn2_2(self.conv2_2(x2))))\n",
        "        \n",
        "        # Concatenate the feature maps\n",
        "        x = torch.cat([x1, x2], 2)\n",
        "        \n",
        "        # Pass the concatenated feature maps to the third\n",
        "        x = x.reshape(-1, 32, 606)\n",
        "        x = self.pool3(F.relu(self.bn1_3(self.conv1_3(x))))\n",
        "        x = self.pool3(F.relu(self.bn2_3(self.conv2_3(x))))\n",
        "        x = x.flatten(1,-1)\n",
        "        \n",
        "        # Pass the processed feature map through fully connected layers\n",
        "        x = F.relu(self.fc1(x))\n",
        "        x = self.fc2(x)\n",
        "        x = self.sigmoid(x)\n",
        "    \n",
        "        return x\n",
        "\n",
        "# Load the saved model\n",
        "model = Net()\n",
        "model.load_state_dict(torch.load(\"/content/drive/MyDrive/07project/model_new.pt\"))\n",
        "# model.load_state_dict(torch.load(\"model_new.pt\"))\n",
        "model.eval()\n",
        "\n",
        "# Define the loss function\n",
        "criterion = nn.BCELoss()\n",
        "\n",
        "# Calculate the test loss and accuracy\n",
        "test_loss = 0\n",
        "y_true = []\n",
        "y_pred = []\n",
        "\n",
        "# with torch.no_grad():\n",
        "#     for data, target in test_dataloader:\n",
        "#         output = model(data).double()\n",
        "#         loss = criterion(output, target.double())\n",
        "#         test_loss += loss.item()\n",
        "#         pred = (output > 0.5).float()\n",
        "#         y_true.extend(target.tolist())\n",
        "#         y_pred.extend(pred.tolist())\n",
        "\n",
        "with torch.no_grad():\n",
        "    for i, data in enumerate(test_dataloader, 0):\n",
        "        inputs1, inputs2, labels = data\n",
        "        labels = labels.float()\n",
        "        outputs = model(torch.tensor(inputs1).to(torch.float32), torch.tensor(inputs2).to(torch.float32))\n",
        "        outputs = outputs.float()\n",
        "        test_loss += criterion(outputs.type(torch.float32), labels.type(torch.float32)).item()\n",
        "        pred = (outputs > 0.5).type(torch.float32)\n",
        "        y_true.extend(labels.tolist())\n",
        "        y_pred.extend(pred.tolist())\n",
        "    test_loss /= len(test_dataloader)\n",
        "\n",
        "y_true = np.array(y_true)\n",
        "y_pred = np.array(y_pred)\n",
        "\n",
        "# Calculate the confusion matrix\n",
        "cm = confusion_matrix(y_true, y_pred)\n",
        "tn, fp, fn, tp = cm.ravel()\n",
        "\n",
        "# Calculate precision, recall, and MCC\n",
        "precision = tp / (tp + fp + 1e-9)\n",
        "recall = tp / (tp + fn + 1e-9)\n",
        "mcc = ((tp * tn) - (fp * fn)) / (np.sqrt((tp + fp) * (tp + fn) * (tn + fp) * (tn + fn)) + 1e-9)\n",
        "f1 = 2 * (precision * recall) / (precision + recall + 1e-9)\n",
        "print(\"Test Loss: {:.4f}\".format(test_loss))\n",
        "print(\"Precision: {:.4f}\".format(precision))\n",
        "print(\"Recall: {:.4f}\".format(recall))\n",
        "print(\"f1: {:.4f}\".format(f1))\n",
        "print(\"MCC: {:.4f}\".format(mcc))\n",
        "print(\"Confusion Matrix:\")\n",
        "print(cm)"
      ],
      "metadata": {
        "id": "77LzGzIGSZ7n",
        "colab": {
          "base_uri": "https://localhost:8080/"
        },
        "outputId": "46be9775-8b1a-422f-c629-632d3b8da45b"
      },
      "execution_count": 33,
      "outputs": [
        {
          "output_type": "stream",
          "name": "stderr",
          "text": [
            "<ipython-input-33-61e9da77d5db>:92: UserWarning: To copy construct from a tensor, it is recommended to use sourceTensor.clone().detach() or sourceTensor.clone().detach().requires_grad_(True), rather than torch.tensor(sourceTensor).\n",
            "  outputs = model(torch.tensor(inputs1).to(torch.float32), torch.tensor(inputs2).to(torch.float32))\n"
          ]
        },
        {
          "output_type": "stream",
          "name": "stdout",
          "text": [
            "Test Loss: 0.1838\n",
            "Precision: 0.9222\n",
            "Recall: 0.9458\n",
            "f1: 0.9338\n",
            "MCC: 0.8671\n",
            "Confusion Matrix:\n",
            "[[4627  396]\n",
            " [ 269 4692]]\n"
          ]
        }
      ]
    },
    {
      "cell_type": "code",
      "source": [
        "# look for the best threshold. Once found, execute the previous section of code\n",
        "thresholds = np.arange(0, 1.0, 0.1)\n",
        "f1_scores = []\n",
        "\n",
        "for threshold in thresholds:\n",
        "    y_true = []\n",
        "    y_pred = []\n",
        "    with torch.no_grad():\n",
        "        for i, data in enumerate(test_dataloader, 0):\n",
        "            inputs1, inputs2, labels = data\n",
        "            labels = labels.float()\n",
        "            outputs = model(torch.tensor(inputs1).to(torch.float32), torch.tensor(inputs2).to(torch.float32))\n",
        "            outputs = outputs.float()\n",
        "            pred = (outputs > threshold).type(torch.float32)\n",
        "            y_true.extend(labels.tolist())\n",
        "            y_pred.extend(pred.tolist())\n",
        "\n",
        "    y_true = np.array(y_true)\n",
        "    y_pred = np.array(y_pred)\n",
        "\n",
        "    # Calculate the confusion matrix\n",
        "    cm = confusion_matrix(y_true, y_pred)\n",
        "    tn, fp, fn, tp = cm.ravel()\n",
        "\n",
        "    # Calculate precision, recall, and MCC\n",
        "    precision = tp / (tp + fp + 1e-9)\n",
        "    recall = tp / (tp + fn + 1e-9)\n",
        "    f1 = 2 * (precision * recall) / (precision + recall + 1e-9)\n",
        "    f1_scores.append(f1)\n",
        "\n",
        "plt.plot(thresholds, f1_scores)\n",
        "plt.xlabel('Threshold')\n",
        "plt.ylabel('F1 Score')\n",
        "plt.show()"
      ],
      "metadata": {
        "colab": {
          "base_uri": "https://localhost:8080/",
          "height": 646
        },
        "id": "F_2V3lqCQg6w",
        "outputId": "15316ffa-dc8d-47bb-e3ed-a1267d477538"
      },
      "execution_count": null,
      "outputs": [
        {
          "output_type": "stream",
          "name": "stderr",
          "text": [
            "<ipython-input-72-a160ac38c04f>:12: UserWarning: To copy construct from a tensor, it is recommended to use sourceTensor.clone().detach() or sourceTensor.clone().detach().requires_grad_(True), rather than torch.tensor(sourceTensor).\n",
            "  outputs = model(torch.tensor(inputs1).to(torch.float32), torch.tensor(inputs2).to(torch.float32))\n",
            "<ipython-input-72-a160ac38c04f>:12: UserWarning: To copy construct from a tensor, it is recommended to use sourceTensor.clone().detach() or sourceTensor.clone().detach().requires_grad_(True), rather than torch.tensor(sourceTensor).\n",
            "  outputs = model(torch.tensor(inputs1).to(torch.float32), torch.tensor(inputs2).to(torch.float32))\n",
            "<ipython-input-72-a160ac38c04f>:12: UserWarning: To copy construct from a tensor, it is recommended to use sourceTensor.clone().detach() or sourceTensor.clone().detach().requires_grad_(True), rather than torch.tensor(sourceTensor).\n",
            "  outputs = model(torch.tensor(inputs1).to(torch.float32), torch.tensor(inputs2).to(torch.float32))\n",
            "<ipython-input-72-a160ac38c04f>:12: UserWarning: To copy construct from a tensor, it is recommended to use sourceTensor.clone().detach() or sourceTensor.clone().detach().requires_grad_(True), rather than torch.tensor(sourceTensor).\n",
            "  outputs = model(torch.tensor(inputs1).to(torch.float32), torch.tensor(inputs2).to(torch.float32))\n",
            "<ipython-input-72-a160ac38c04f>:12: UserWarning: To copy construct from a tensor, it is recommended to use sourceTensor.clone().detach() or sourceTensor.clone().detach().requires_grad_(True), rather than torch.tensor(sourceTensor).\n",
            "  outputs = model(torch.tensor(inputs1).to(torch.float32), torch.tensor(inputs2).to(torch.float32))\n",
            "<ipython-input-72-a160ac38c04f>:12: UserWarning: To copy construct from a tensor, it is recommended to use sourceTensor.clone().detach() or sourceTensor.clone().detach().requires_grad_(True), rather than torch.tensor(sourceTensor).\n",
            "  outputs = model(torch.tensor(inputs1).to(torch.float32), torch.tensor(inputs2).to(torch.float32))\n",
            "<ipython-input-72-a160ac38c04f>:12: UserWarning: To copy construct from a tensor, it is recommended to use sourceTensor.clone().detach() or sourceTensor.clone().detach().requires_grad_(True), rather than torch.tensor(sourceTensor).\n",
            "  outputs = model(torch.tensor(inputs1).to(torch.float32), torch.tensor(inputs2).to(torch.float32))\n",
            "<ipython-input-72-a160ac38c04f>:12: UserWarning: To copy construct from a tensor, it is recommended to use sourceTensor.clone().detach() or sourceTensor.clone().detach().requires_grad_(True), rather than torch.tensor(sourceTensor).\n",
            "  outputs = model(torch.tensor(inputs1).to(torch.float32), torch.tensor(inputs2).to(torch.float32))\n",
            "<ipython-input-72-a160ac38c04f>:12: UserWarning: To copy construct from a tensor, it is recommended to use sourceTensor.clone().detach() or sourceTensor.clone().detach().requires_grad_(True), rather than torch.tensor(sourceTensor).\n",
            "  outputs = model(torch.tensor(inputs1).to(torch.float32), torch.tensor(inputs2).to(torch.float32))\n",
            "<ipython-input-72-a160ac38c04f>:12: UserWarning: To copy construct from a tensor, it is recommended to use sourceTensor.clone().detach() or sourceTensor.clone().detach().requires_grad_(True), rather than torch.tensor(sourceTensor).\n",
            "  outputs = model(torch.tensor(inputs1).to(torch.float32), torch.tensor(inputs2).to(torch.float32))\n"
          ]
        },
        {
          "output_type": "display_data",
          "data": {
            "text/plain": [
              "<Figure size 432x288 with 1 Axes>"
            ],
            "image/png": "[encoded data removed]"
          },
          "metadata": {
            "needs_background": "light"
          }
        }
      ]
    },
    {
      "cell_type": "code",
      "source": [
        "\n",
        "fpr, tpr, thresholds = roc_curve(y_true, y_pred)\n",
        "plt.plot(fpr, tpr, color='red', label='ROC')\n",
        "plt.plot([0, 1], [0, 1], color='darkblue', linestyle='--', label='Random Guess')\n",
        "plt.xlabel('False Positive Rate')\n",
        "plt.ylabel('True Positive Rate')\n",
        "plt.title('ROC Curve')\n",
        "plt.legend()\n",
        "plt.show()"
      ],
      "metadata": {
        "id": "zp84p6VNWJ2k",
        "colab": {
          "base_uri": "https://localhost:8080/",
          "height": 295
        },
        "outputId": "f3efe727-e203-4679-ad34-9cb80c6ba42f"
      },
      "execution_count": 34,
      "outputs": [
        {
          "output_type": "display_data",
          "data": {
            "text/plain": [
              "<Figure size 432x288 with 1 Axes>"
            ],
            "image/png": "[encoded data removed]"
          },
          "metadata": {
            "needs_background": "light"
          }
        }
      ]
    },
    {
      "cell_type": "code",
      "source": [
        "sns.heatmap(cm, annot=True, cmap='Blues')\n",
        "\n",
        "# Add labels to the plot\n",
        "plt.xlabel('Predicted Label')\n",
        "plt.ylabel('True Label')\n",
        "\n",
        "# Show the plot\n",
        "plt.show()"
      ],
      "metadata": {
        "colab": {
          "base_uri": "https://localhost:8080/",
          "height": 279
        },
        "id": "j9nuvpDryd38",
        "outputId": "13d5ff65-ba00-46f3-caff-d96b5281eebc"
      },
      "execution_count": 35,
      "outputs": [
        {
          "output_type": "display_data",
          "data": {
            "text/plain": [
              "<Figure size 432x288 with 2 Axes>"
            ],
            "image/png": "[encoded data removed]"
          },
          "metadata": {
            "needs_background": "light"
          }
        }
      ]
    },
    {
      "cell_type": "code",
      "source": [
        "cm = cm.astype('float') / cm.sum(axis=1)[:, np.newaxis] # normalize the values to [0,1]\n",
        "sns.heatmap(cm, annot=True, cmap='Blues', vmin=0, vmax=1) # set the color bar range to [0,1]\n",
        "plt.xlabel('Predicted Label')\n",
        "plt.ylabel('True Label')\n",
        "plt.title('Normalized Confusion Matrix')\n",
        "plt.show()"
      ],
      "metadata": {
        "id": "7j9sps9ySXYX",
        "colab": {
          "base_uri": "https://localhost:8080/",
          "height": 295
        },
        "outputId": "2ac6c143-bb16-4329-ab50-8d21bbb520b8"
      },
      "execution_count": 36,
      "outputs": [
        {
          "output_type": "display_data",
          "data": {
            "text/plain": [
              "<Figure size 432x288 with 2 Axes>"
            ],
            "image/png": "[encoded data removed]"
          },
          "metadata": {
            "needs_background": "light"
          }
        }
      ]
    },
    {
      "cell_type": "code",
      "source": [],
      "metadata": {
        "id": "ACjIEMWa8xSf"
      },
      "execution_count": null,
      "outputs": []
    }
  ]
}